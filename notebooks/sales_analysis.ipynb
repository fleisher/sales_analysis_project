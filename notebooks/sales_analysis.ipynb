{
 "cells": [
  {
   "metadata": {},
   "cell_type": "raw",
   "outputs": [],
   "execution_count": null,
   "source": [
    "# 📊 Sales Analysis: Топ-10 товаров\n",
    "\n",
    "import os\n",
    "from sales_analysis.data_loader import load_sales_data\n",
    "from sales_analysis.analyzer import top_products\n",
    "from sales_analysis.visualizer import plot_top_products\n",
    "\n",
    "# === Загружаем данные ===\n",
    "BASE_DIR = os.path.dirname(os.path.dirname(os.path.abspath(\"\")))\n",
    "filepath = os.path.join(BASE_DIR, \"data\", \"online_retail_II.csv\")\n",
    "df = load_sales_data(filepath)\n",
    "\n",
    "# === Топ-10 товаров по выручке ===\n",
    "top_10 = top_products(df, top_n=10)\n",
    "top_10\n",
    "\n",
    "# === Визуализация ===\n",
    "plot_top_products(df, top_n=10)\n"
   ],
   "id": "17fdab13c13392d8"
  }
 ],
 "metadata": {},
 "nbformat": 4,
 "nbformat_minor": 5
}
